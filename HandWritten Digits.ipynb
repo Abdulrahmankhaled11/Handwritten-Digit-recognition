{
 "cells": [
  {
   "cell_type": "markdown",
   "id": "c8c2a017-6ee1-4f82-b64e-19e58710ac95",
   "metadata": {},
   "source": [
    "## Import Librarries"
   ]
  },
  {
   "cell_type": "code",
   "execution_count": 19,
   "id": "e784f106-6fbf-4e57-97f8-ce2c367c7c07",
   "metadata": {
    "tags": []
   },
   "outputs": [],
   "source": [
    "import numpy as np \n",
    "import pandas as pd \n",
    "import matplotlib.pyplot as plt \n",
    "import seaborn as sns \n",
    "\n",
    "from sklearn.model_selection import train_test_split\n",
    "from sklearn.metrics import classification_report\n",
    "import tensorflow as tf \n",
    "from tensorflow import keras \n",
    "\n",
    "import warnings\n",
    "warnings.filterwarnings('ignore')"
   ]
  },
  {
   "cell_type": "markdown",
   "id": "4ff19c68-45b8-4b50-b2a6-b50c395e299a",
   "metadata": {},
   "source": [
    "-------------------------------\n",
    "## Read Data "
   ]
  },
  {
   "cell_type": "code",
   "execution_count": 2,
   "id": "d8bca98f-8c56-4da9-9957-1d4e813f11ea",
   "metadata": {
    "tags": []
   },
   "outputs": [],
   "source": [
    "df = pd.read_csv(\"train.csv\")"
   ]
  },
  {
   "cell_type": "markdown",
   "id": "6bc2133c-c7eb-4445-96b5-647788ce618d",
   "metadata": {},
   "source": [
    "----------------\n",
    "## Information About Data"
   ]
  },
  {
   "cell_type": "code",
   "execution_count": 3,
   "id": "33ae3866-d44f-49a1-ab4a-1750b335e585",
   "metadata": {
    "tags": []
   },
   "outputs": [
    {
     "data": {
      "text/plain": [
       "(42000, 785)"
      ]
     },
     "execution_count": 3,
     "metadata": {},
     "output_type": "execute_result"
    }
   ],
   "source": [
    "df.shape"
   ]
  },
  {
   "cell_type": "code",
   "execution_count": 4,
   "id": "413f35b0-b0bf-4864-9ae8-a9964b82a6ae",
   "metadata": {
    "tags": []
   },
   "outputs": [
    {
     "data": {
      "text/html": [
       "<div>\n",
       "<style scoped>\n",
       "    .dataframe tbody tr th:only-of-type {\n",
       "        vertical-align: middle;\n",
       "    }\n",
       "\n",
       "    .dataframe tbody tr th {\n",
       "        vertical-align: top;\n",
       "    }\n",
       "\n",
       "    .dataframe thead th {\n",
       "        text-align: right;\n",
       "    }\n",
       "</style>\n",
       "<table border=\"1\" class=\"dataframe\">\n",
       "  <thead>\n",
       "    <tr style=\"text-align: right;\">\n",
       "      <th></th>\n",
       "      <th>label</th>\n",
       "      <th>pixel0</th>\n",
       "      <th>pixel1</th>\n",
       "      <th>pixel2</th>\n",
       "      <th>pixel3</th>\n",
       "      <th>pixel4</th>\n",
       "      <th>pixel5</th>\n",
       "      <th>pixel6</th>\n",
       "      <th>pixel7</th>\n",
       "      <th>pixel8</th>\n",
       "      <th>...</th>\n",
       "      <th>pixel774</th>\n",
       "      <th>pixel775</th>\n",
       "      <th>pixel776</th>\n",
       "      <th>pixel777</th>\n",
       "      <th>pixel778</th>\n",
       "      <th>pixel779</th>\n",
       "      <th>pixel780</th>\n",
       "      <th>pixel781</th>\n",
       "      <th>pixel782</th>\n",
       "      <th>pixel783</th>\n",
       "    </tr>\n",
       "  </thead>\n",
       "  <tbody>\n",
       "    <tr>\n",
       "      <th>0</th>\n",
       "      <td>1</td>\n",
       "      <td>0</td>\n",
       "      <td>0</td>\n",
       "      <td>0</td>\n",
       "      <td>0</td>\n",
       "      <td>0</td>\n",
       "      <td>0</td>\n",
       "      <td>0</td>\n",
       "      <td>0</td>\n",
       "      <td>0</td>\n",
       "      <td>...</td>\n",
       "      <td>0</td>\n",
       "      <td>0</td>\n",
       "      <td>0</td>\n",
       "      <td>0</td>\n",
       "      <td>0</td>\n",
       "      <td>0</td>\n",
       "      <td>0</td>\n",
       "      <td>0</td>\n",
       "      <td>0</td>\n",
       "      <td>0</td>\n",
       "    </tr>\n",
       "    <tr>\n",
       "      <th>1</th>\n",
       "      <td>0</td>\n",
       "      <td>0</td>\n",
       "      <td>0</td>\n",
       "      <td>0</td>\n",
       "      <td>0</td>\n",
       "      <td>0</td>\n",
       "      <td>0</td>\n",
       "      <td>0</td>\n",
       "      <td>0</td>\n",
       "      <td>0</td>\n",
       "      <td>...</td>\n",
       "      <td>0</td>\n",
       "      <td>0</td>\n",
       "      <td>0</td>\n",
       "      <td>0</td>\n",
       "      <td>0</td>\n",
       "      <td>0</td>\n",
       "      <td>0</td>\n",
       "      <td>0</td>\n",
       "      <td>0</td>\n",
       "      <td>0</td>\n",
       "    </tr>\n",
       "    <tr>\n",
       "      <th>2</th>\n",
       "      <td>1</td>\n",
       "      <td>0</td>\n",
       "      <td>0</td>\n",
       "      <td>0</td>\n",
       "      <td>0</td>\n",
       "      <td>0</td>\n",
       "      <td>0</td>\n",
       "      <td>0</td>\n",
       "      <td>0</td>\n",
       "      <td>0</td>\n",
       "      <td>...</td>\n",
       "      <td>0</td>\n",
       "      <td>0</td>\n",
       "      <td>0</td>\n",
       "      <td>0</td>\n",
       "      <td>0</td>\n",
       "      <td>0</td>\n",
       "      <td>0</td>\n",
       "      <td>0</td>\n",
       "      <td>0</td>\n",
       "      <td>0</td>\n",
       "    </tr>\n",
       "    <tr>\n",
       "      <th>3</th>\n",
       "      <td>4</td>\n",
       "      <td>0</td>\n",
       "      <td>0</td>\n",
       "      <td>0</td>\n",
       "      <td>0</td>\n",
       "      <td>0</td>\n",
       "      <td>0</td>\n",
       "      <td>0</td>\n",
       "      <td>0</td>\n",
       "      <td>0</td>\n",
       "      <td>...</td>\n",
       "      <td>0</td>\n",
       "      <td>0</td>\n",
       "      <td>0</td>\n",
       "      <td>0</td>\n",
       "      <td>0</td>\n",
       "      <td>0</td>\n",
       "      <td>0</td>\n",
       "      <td>0</td>\n",
       "      <td>0</td>\n",
       "      <td>0</td>\n",
       "    </tr>\n",
       "    <tr>\n",
       "      <th>4</th>\n",
       "      <td>0</td>\n",
       "      <td>0</td>\n",
       "      <td>0</td>\n",
       "      <td>0</td>\n",
       "      <td>0</td>\n",
       "      <td>0</td>\n",
       "      <td>0</td>\n",
       "      <td>0</td>\n",
       "      <td>0</td>\n",
       "      <td>0</td>\n",
       "      <td>...</td>\n",
       "      <td>0</td>\n",
       "      <td>0</td>\n",
       "      <td>0</td>\n",
       "      <td>0</td>\n",
       "      <td>0</td>\n",
       "      <td>0</td>\n",
       "      <td>0</td>\n",
       "      <td>0</td>\n",
       "      <td>0</td>\n",
       "      <td>0</td>\n",
       "    </tr>\n",
       "  </tbody>\n",
       "</table>\n",
       "<p>5 rows × 785 columns</p>\n",
       "</div>"
      ],
      "text/plain": [
       "   label  pixel0  pixel1  pixel2  pixel3  pixel4  pixel5  pixel6  pixel7  \\\n",
       "0      1       0       0       0       0       0       0       0       0   \n",
       "1      0       0       0       0       0       0       0       0       0   \n",
       "2      1       0       0       0       0       0       0       0       0   \n",
       "3      4       0       0       0       0       0       0       0       0   \n",
       "4      0       0       0       0       0       0       0       0       0   \n",
       "\n",
       "   pixel8  ...  pixel774  pixel775  pixel776  pixel777  pixel778  pixel779  \\\n",
       "0       0  ...         0         0         0         0         0         0   \n",
       "1       0  ...         0         0         0         0         0         0   \n",
       "2       0  ...         0         0         0         0         0         0   \n",
       "3       0  ...         0         0         0         0         0         0   \n",
       "4       0  ...         0         0         0         0         0         0   \n",
       "\n",
       "   pixel780  pixel781  pixel782  pixel783  \n",
       "0         0         0         0         0  \n",
       "1         0         0         0         0  \n",
       "2         0         0         0         0  \n",
       "3         0         0         0         0  \n",
       "4         0         0         0         0  \n",
       "\n",
       "[5 rows x 785 columns]"
      ]
     },
     "execution_count": 4,
     "metadata": {},
     "output_type": "execute_result"
    }
   ],
   "source": [
    "df.head()"
   ]
  },
  {
   "cell_type": "code",
   "execution_count": 5,
   "id": "bb63903f-e183-47cb-a002-67b79b11f1db",
   "metadata": {
    "tags": []
   },
   "outputs": [
    {
     "name": "stdout",
     "output_type": "stream",
     "text": [
      "<class 'pandas.core.frame.DataFrame'>\n",
      "RangeIndex: 42000 entries, 0 to 41999\n",
      "Columns: 785 entries, label to pixel783\n",
      "dtypes: int64(785)\n",
      "memory usage: 251.5 MB\n"
     ]
    }
   ],
   "source": [
    "df.info()"
   ]
  },
  {
   "cell_type": "markdown",
   "id": "eb4147ca-093c-46b3-ac48-c80d69f4ed3a",
   "metadata": {
    "tags": []
   },
   "source": [
    "-----------------------------\n",
    "## Visualizing Some Digits"
   ]
  },
  {
   "cell_type": "code",
   "execution_count": 6,
   "id": "09723af3-ac80-4436-9bc0-04daa352c50f",
   "metadata": {
    "tags": []
   },
   "outputs": [],
   "source": [
    "digits = []\n",
    "for i in range(10) :\n",
    "    digit =df[ df['label'] == i].sample().iloc[:,1:].values\n",
    "    digits.append(digit)"
   ]
  },
  {
   "cell_type": "code",
   "execution_count": 7,
   "id": "dedb6fdb-a108-4d38-a93f-dbc884859c6d",
   "metadata": {
    "tags": []
   },
   "outputs": [
    {
     "data": {
      "image/png": "[encoded data removed]",
      "text/plain": [
       "<Figure size 1500x700 with 10 Axes>"
      ]
     },
     "metadata": {},
     "output_type": "display_data"
    }
   ],
   "source": [
    "plt.figure(figsize =(15,7))\n",
    "plt.title(\"Digits\")\n",
    "for i in range(10):\n",
    "    digit = np.array(digits[i]).reshape(28,28)\n",
    "    plt.subplot(2,5,i+1)\n",
    "    plt.imshow(digit , cmap='copper')\n",
    "    plt.axis('off')\n",
    "    plt.title(f\"Digit {i}\")"
   ]
  },
  {
   "cell_type": "markdown",
   "id": "a84844e1-a879-46b3-b1ec-7efdb031fd18",
   "metadata": {},
   "source": [
    "-----------------------\n",
    "## Split Data [Features - Targert]"
   ]
  },
  {
   "cell_type": "code",
   "execution_count": 8,
   "id": "26300901-a087-48f1-a361-a0900962b005",
   "metadata": {
    "tags": []
   },
   "outputs": [],
   "source": [
    "x = df.iloc[:,1:]\n",
    "y = df.label"
   ]
  },
  {
   "cell_type": "markdown",
   "id": "aed7f901-f283-4f1e-9ec1-1da1b37c0231",
   "metadata": {},
   "source": [
    "----------------\n",
    "## Split data [Train - Test]"
   ]
  },
  {
   "cell_type": "code",
   "execution_count": 9,
   "id": "a4fa57f3-65d2-4a29-bb32-fa673407e606",
   "metadata": {
    "tags": []
   },
   "outputs": [],
   "source": [
    "x_train , x_test , y_train , y_test = train_test_split(x,y,test_size=.2 , random_state=123 , shuffle=True)"
   ]
  },
  {
   "cell_type": "markdown",
   "id": "61989da5-57bb-4ede-820f-757018449735",
   "metadata": {},
   "source": [
    "------------------------\n",
    "## Build Neural Network"
   ]
  },
  {
   "cell_type": "code",
   "execution_count": 76,
   "id": "87163dd0-c512-4358-9b03-c30a874d8440",
   "metadata": {
    "tags": []
   },
   "outputs": [],
   "source": [
    "model = keras.Sequential([\n",
    "\n",
    "    keras.layers.Rescaling(1/255),\n",
    "    \n",
    "    keras.layers.Dense(128 , input_shape = (784,) , activation = 'relu'),\n",
    "    keras.layers.Dense(64 , activation = 'relu'),\n",
    "    keras.layers.Dense(64 , activation = 'relu'),\n",
    "    keras.layers.Dense(64 , activation = 'relu'),\n",
    "    keras.layers.Dense(32 , activation = 'relu'),\n",
    "    keras.layers.Dense(32 , activation = 'relu'),\n",
    "    keras.layers.Dense(10 , activation = 'softmax')\n",
    "])\n",
    "\n"
   ]
  },
  {
   "cell_type": "code",
   "execution_count": 77,
   "id": "670f8a48-adaf-4143-9ab6-d4e90e855480",
   "metadata": {
    "tags": []
   },
   "outputs": [],
   "source": [
    "model.compile(\n",
    "    loss = \"sparse_categorical_crossentropy\",\n",
    "    optimizer = 'adam',\n",
    "    metrics = 'accuracy'\n",
    ")"
   ]
  },
  {
   "cell_type": "markdown",
   "id": "f12ff87f-5af0-4141-a08b-4db8793a3448",
   "metadata": {},
   "source": [
    "---------------------\n",
    "## Train The Model"
   ]
  },
  {
   "cell_type": "code",
   "execution_count": 78,
   "id": "1997e2aa-cfef-4d1c-b074-4be64207c4b9",
   "metadata": {
    "tags": []
   },
   "outputs": [
    {
     "name": "stdout",
     "output_type": "stream",
     "text": [
      "Epoch 1/20\n",
      "1050/1050 [==============================] - 7s 5ms/step - loss: 0.3986 - accuracy: 0.8774\n",
      "Epoch 2/20\n",
      "1050/1050 [==============================] - 5s 5ms/step - loss: 0.1471 - accuracy: 0.9567\n",
      "Epoch 3/20\n",
      "1050/1050 [==============================] - 5s 5ms/step - loss: 0.1030 - accuracy: 0.9693\n",
      "Epoch 4/20\n",
      "1050/1050 [==============================] - 5s 5ms/step - loss: 0.0810 - accuracy: 0.9753\n",
      "Epoch 5/20\n",
      "1050/1050 [==============================] - 5s 5ms/step - loss: 0.0678 - accuracy: 0.9794\n",
      "Epoch 6/20\n",
      "1050/1050 [==============================] - 5s 5ms/step - loss: 0.0552 - accuracy: 0.9824\n",
      "Epoch 7/20\n",
      "1050/1050 [==============================] - 5s 5ms/step - loss: 0.0520 - accuracy: 0.9845\n",
      "Epoch 8/20\n",
      "1050/1050 [==============================] - 6s 5ms/step - loss: 0.0437 - accuracy: 0.9864\n",
      "Epoch 9/20\n",
      "1050/1050 [==============================] - 6s 6ms/step - loss: 0.0356 - accuracy: 0.9893\n",
      "Epoch 10/20\n",
      "1050/1050 [==============================] - 5s 5ms/step - loss: 0.0375 - accuracy: 0.9886\n",
      "Epoch 11/20\n",
      "1050/1050 [==============================] - 6s 5ms/step - loss: 0.0294 - accuracy: 0.9911\n",
      "Epoch 12/20\n",
      "1050/1050 [==============================] - 5s 5ms/step - loss: 0.0292 - accuracy: 0.9908\n",
      "Epoch 13/20\n",
      "1050/1050 [==============================] - 5s 5ms/step - loss: 0.0263 - accuracy: 0.9919\n",
      "Epoch 14/20\n",
      "1050/1050 [==============================] - 6s 5ms/step - loss: 0.0241 - accuracy: 0.9927\n",
      "Epoch 15/20\n",
      "1050/1050 [==============================] - 6s 5ms/step - loss: 0.0256 - accuracy: 0.9922\n",
      "Epoch 16/20\n",
      "1050/1050 [==============================] - 5s 5ms/step - loss: 0.0199 - accuracy: 0.9938\n",
      "Epoch 17/20\n",
      "1050/1050 [==============================] - 6s 5ms/step - loss: 0.0224 - accuracy: 0.9936\n",
      "Epoch 18/20\n",
      "1050/1050 [==============================] - 6s 5ms/step - loss: 0.0195 - accuracy: 0.9944\n",
      "Epoch 19/20\n",
      "1050/1050 [==============================] - 5s 5ms/step - loss: 0.0238 - accuracy: 0.9932\n",
      "Epoch 20/20\n",
      "1050/1050 [==============================] - 6s 5ms/step - loss: 0.0187 - accuracy: 0.9953\n"
     ]
    }
   ],
   "source": [
    "history = model.fit(x_train , y_train , epochs=20)"
   ]
  },
  {
   "cell_type": "markdown",
   "id": "244d6ad4-a2c6-4031-9478-d50e0b7daf69",
   "metadata": {},
   "source": [
    "----------------\n",
    "## Model Evaluation"
   ]
  },
  {
   "cell_type": "code",
   "execution_count": 82,
   "id": "fc6311ed-edea-40c8-87ef-cafca345daf2",
   "metadata": {
    "tags": []
   },
   "outputs": [
    {
     "name": "stdout",
     "output_type": "stream",
     "text": [
      "263/263 [==============================] - 1s 3ms/step - loss: 0.1221 - accuracy: 0.9749\n"
     ]
    },
    {
     "data": {
      "text/plain": [
       "[0.12212524563074112, 0.9748809337615967]"
      ]
     },
     "execution_count": 82,
     "metadata": {},
     "output_type": "execute_result"
    }
   ],
   "source": [
    "model.evaluate(x_test,y_test)"
   ]
  },
  {
   "cell_type": "code",
   "execution_count": 83,
   "id": "b87dc989-f0bc-4d1c-af03-bb487f3b83a2",
   "metadata": {
    "tags": []
   },
   "outputs": [
    {
     "name": "stdout",
     "output_type": "stream",
     "text": [
      "263/263 [==============================] - 1s 3ms/step\n"
     ]
    }
   ],
   "source": [
    "y_pred = model.predict(x_test)\n",
    "y_pred = list(map(lambda x : x.argmax() , y_pred))"
   ]
  },
  {
   "cell_type": "code",
   "execution_count": 84,
   "id": "5fcc1ccb-990f-4899-97e2-9845c0ac70b7",
   "metadata": {
    "tags": []
   },
   "outputs": [
    {
     "name": "stdout",
     "output_type": "stream",
     "text": [
      "              precision    recall  f1-score   support\n",
      "\n",
      "           0       0.98      0.98      0.98       785\n",
      "           1       0.99      0.99      0.99       949\n",
      "           2       0.95      0.98      0.97       838\n",
      "           3       0.97      0.97      0.97       858\n",
      "           4       0.98      0.97      0.98       796\n",
      "           5       0.97      0.97      0.97       800\n",
      "           6       0.99      0.98      0.98       870\n",
      "           7       0.98      0.97      0.98       860\n",
      "           8       0.96      0.97      0.97       817\n",
      "           9       0.97      0.97      0.97       827\n",
      "\n",
      "    accuracy                           0.97      8400\n",
      "   macro avg       0.97      0.97      0.97      8400\n",
      "weighted avg       0.97      0.97      0.97      8400\n",
      "\n"
     ]
    }
   ],
   "source": [
    "print(classification_report(y_test , y_pred))"
   ]
  },
  {
   "cell_type": "markdown",
   "id": "1c959db7-e028-4118-89c9-76eea474871b",
   "metadata": {},
   "source": [
    "### -> As we see , we got 97% accuracy which is a good performance ."
   ]
  },
  {
   "cell_type": "code",
   "execution_count": null,
   "id": "aadd15d1-7fa2-40ed-84ec-6630e7867c20",
   "metadata": {},
   "outputs": [],
   "source": []
  }
 ],
 "metadata": {
  "kernelspec": {
   "display_name": "Python 3 (ipykernel)",
   "language": "python",
   "name": "python3"
  },
  "language_info": {
   "codemirror_mode": {
    "name": "ipython",
    "version": 3
   },
   "file_extension": ".py",
   "mimetype": "text/x-python",
   "name": "python",
   "nbconvert_exporter": "python",
   "pygments_lexer": "ipython3",
   "version": "3.11.5"
  }
 },
 "nbformat": 4,
 "nbformat_minor": 5
}
